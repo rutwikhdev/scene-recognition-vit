{
 "cells": [
  {
   "cell_type": "code",
   "execution_count": 1,
   "id": "2038f926-f55a-40c1-81d6-2cc197ba1b39",
   "metadata": {},
   "outputs": [],
   "source": [
    "!python3 download_models.py"
   ]
  },
  {
   "cell_type": "code",
   "execution_count": 2,
   "id": "1b7ef737-1793-44eb-975c-ad8007f31978",
   "metadata": {},
   "outputs": [],
   "source": [
    "import torch\n",
    "\n",
    "from src.dataset import get_dataloaders\n",
    "from src.utils import evaluate, set_random_seed, plot_confusion_matrix\n",
    "\n",
    "import matplotlib.pyplot as plt\n",
    "\n",
    "%matplotlib inline"
   ]
  },
  {
   "cell_type": "code",
   "execution_count": 3,
   "id": "5f917c72-2c10-4205-8069-9fa5144fb4d5",
   "metadata": {},
   "outputs": [],
   "source": [
    "set_random_seed()\n",
    "_, test_loader, class_names = get_dataloaders(\"./data/Places2_simp\")"
   ]
  },
  {
   "cell_type": "code",
   "execution_count": 4,
   "id": "163eec2d-c64a-4554-a348-214af4b7dbdf",
   "metadata": {},
   "outputs": [
    {
     "name": "stderr",
     "output_type": "stream",
     "text": [
      "Some weights of Dinov2ForImageClassification were not initialized from the model checkpoint at facebook/dinov2-base and are newly initialized: ['classifier.bias', 'classifier.weight']\n",
      "You should probably TRAIN this model on a down-stream task to be able to use it for predictions and inference.\n"
     ]
    },
    {
     "data": {
      "text/plain": [
       "<All keys matched successfully>"
      ]
     },
     "execution_count": 4,
     "metadata": {},
     "output_type": "execute_result"
    }
   ],
   "source": [
    "from src.models import load_vit_model\n",
    "\n",
    "model_path = \"./dino.pth\" # \"vit.pth\", \"swin.pth\", \"dino.pth\"\n",
    "model = load_vit_model(\"dinov2\").to(\"cuda\") # \"dinov2\", \"vit_base\", \"swin\"\n",
    "\n",
    "state_dict = torch.load(model_path)\n",
    "# Remove _orig_mod. from all keys since we are using torch.compile(model) while training\n",
    "new_state_dict = {k.replace(\"_orig_mod.\", \"\"): v for k, v in state_dict.items()}\n",
    "model.load_state_dict(new_state_dict)"
   ]
  },
  {
   "cell_type": "code",
   "execution_count": 5,
   "id": "93e8c788-ca9b-4483-bf61-f8e80e0e6c73",
   "metadata": {},
   "outputs": [
    {
     "name": "stdout",
     "output_type": "stream",
     "text": [
      "Top-1, Top-5\n"
     ]
    },
    {
     "ename": "KeyboardInterrupt",
     "evalue": "",
     "output_type": "error",
     "traceback": [
      "\u001b[0;31m---------------------------------------------------------------------------\u001b[0m",
      "\u001b[0;31mKeyboardInterrupt\u001b[0m                         Traceback (most recent call last)",
      "Cell \u001b[0;32mIn[5], line 2\u001b[0m\n\u001b[1;32m      1\u001b[0m \u001b[38;5;28mprint\u001b[39m(\u001b[38;5;124m\"\u001b[39m\u001b[38;5;124mTop-1, Top-5\u001b[39m\u001b[38;5;124m\"\u001b[39m)\n\u001b[0;32m----> 2\u001b[0m \u001b[43mevaluate\u001b[49m\u001b[43m(\u001b[49m\u001b[43mmodel\u001b[49m\u001b[43m,\u001b[49m\u001b[43m \u001b[49m\u001b[43mtest_loader\u001b[49m\u001b[43m,\u001b[49m\u001b[43m \u001b[49m\u001b[38;5;124;43m\"\u001b[39;49m\u001b[38;5;124;43mcuda\u001b[39;49m\u001b[38;5;124;43m\"\u001b[39;49m\u001b[43m)\u001b[49m\n",
      "File \u001b[0;32m~/code/cw/scene-recognition-vit/src/utils.py:67\u001b[0m, in \u001b[0;36mevaluate\u001b[0;34m(model, dataloader, device)\u001b[0m\n\u001b[1;32m     64\u001b[0m outputs \u001b[38;5;241m=\u001b[39m model(pixel_values\u001b[38;5;241m=\u001b[39mimages)\u001b[38;5;241m.\u001b[39mlogits\n\u001b[1;32m     65\u001b[0m _, top5 \u001b[38;5;241m=\u001b[39m outputs\u001b[38;5;241m.\u001b[39mtopk(\u001b[38;5;241m5\u001b[39m, dim\u001b[38;5;241m=\u001b[39m\u001b[38;5;241m1\u001b[39m)\n\u001b[0;32m---> 67\u001b[0m correct_top1 \u001b[38;5;241m+\u001b[39m\u001b[38;5;241m=\u001b[39m \u001b[43m(\u001b[49m\u001b[43mtop5\u001b[49m\u001b[43m[\u001b[49m\u001b[43m:\u001b[49m\u001b[43m,\u001b[49m\u001b[43m \u001b[49m\u001b[38;5;241;43m0\u001b[39;49m\u001b[43m]\u001b[49m\u001b[43m \u001b[49m\u001b[38;5;241;43m==\u001b[39;49m\u001b[43m \u001b[49m\u001b[43mlabels\u001b[49m\u001b[43m)\u001b[49m\u001b[38;5;241;43m.\u001b[39;49m\u001b[43msum\u001b[49m\u001b[43m(\u001b[49m\u001b[43m)\u001b[49m\u001b[38;5;241;43m.\u001b[39;49m\u001b[43mitem\u001b[49m\u001b[43m(\u001b[49m\u001b[43m)\u001b[49m\n\u001b[1;32m     68\u001b[0m correct_top5 \u001b[38;5;241m+\u001b[39m\u001b[38;5;241m=\u001b[39m \u001b[38;5;28msum\u001b[39m([label \u001b[38;5;129;01min\u001b[39;00m top \u001b[38;5;28;01mfor\u001b[39;00m label, top \u001b[38;5;129;01min\u001b[39;00m \u001b[38;5;28mzip\u001b[39m(labels, top5)])\n\u001b[1;32m     69\u001b[0m total \u001b[38;5;241m+\u001b[39m\u001b[38;5;241m=\u001b[39m labels\u001b[38;5;241m.\u001b[39msize(\u001b[38;5;241m0\u001b[39m)\n",
      "\u001b[0;31mKeyboardInterrupt\u001b[0m: "
     ]
    }
   ],
   "source": [
    "print(\"Top-1, Top-5\")\n",
    "evaluate(model, test_loader, \"cuda\")"
   ]
  },
  {
   "cell_type": "code",
   "execution_count": null,
   "id": "5b0d565a-96c3-4a20-b4d8-7175c329055e",
   "metadata": {},
   "outputs": [],
   "source": [
    "plot_confusion_matrix(model=model, dataloader=test_loader, class_names=class_names, device=\"cuda\", save=False)"
   ]
  },
  {
   "cell_type": "code",
   "execution_count": null,
   "id": "7dfc3b86-065e-4508-b435-a14e31277beb",
   "metadata": {},
   "outputs": [],
   "source": [
    "import torch\n",
    "import matplotlib.pyplot as plt\n",
    "\n",
    "def unnormalize(img_tensor):\n",
    "    \"\"\"Undo normalization for visualization.\"\"\"\n",
    "    mean = torch.tensor([0.4547, 0.4337, 0.4011]).view(3, 1, 1)\n",
    "    std = torch.tensor([0.2266, 0.2237, 0.2316]).view(3, 1, 1)\n",
    "    img = img_tensor * std + mean\n",
    "    return torch.clamp(img, 0, 1)\n",
    "\n",
    "def print_misclassified_grid(model, val_loader, class_names, device='cuda', max_to_show=12, cols=4):\n",
    "    model.eval()\n",
    "    model.to(device)\n",
    "    misclassified_images = []\n",
    "    titles = []\n",
    "\n",
    "    with torch.no_grad():\n",
    "        for images, labels in val_loader:\n",
    "            images = images.to(device)\n",
    "            labels = labels.to(device)\n",
    "            outputs = model(images).logits\n",
    "            preds = torch.argmax(outputs, dim=1)\n",
    "\n",
    "            for img, label, pred in zip(images, labels, preds):\n",
    "                if label != pred:\n",
    "                    misclassified_images.append(unnormalize(img.cpu()))\n",
    "                    titles.append(f\"T: {class_names[label]}\\nP: {class_names[pred]}\")\n",
    "                    if len(misclassified_images) >= max_to_show:\n",
    "                        break\n",
    "            if len(misclassified_images) >= max_to_show:\n",
    "                break\n",
    "\n",
    "    # Plot images in grid\n",
    "    rows = (len(misclassified_images) + cols - 1) // cols\n",
    "    fig, axs = plt.subplots(rows, cols, figsize=(cols * 4, rows * 4))\n",
    "    axs = axs.flatten()\n",
    "\n",
    "    for ax, img, title in zip(axs, misclassified_images, titles):\n",
    "        ax.imshow(img.permute(1, 2, 0).numpy())\n",
    "        ax.set_title(title, fontsize=9)\n",
    "        ax.axis('off')\n",
    "\n",
    "    # Turn off unused axes\n",
    "    for i in range(len(misclassified_images), len(axs)):\n",
    "        axs[i].axis('off')\n",
    "\n",
    "    plt.tight_layout()\n",
    "    plt.show()\n"
   ]
  },
  {
   "cell_type": "code",
   "execution_count": null,
   "id": "8381793e-4030-49d5-a0bd-89bb35e45d32",
   "metadata": {
    "scrolled": true
   },
   "outputs": [],
   "source": [
    "print_misclassified_grid(model, test_loader, class_names) # T = True Label, P = Predicted"
   ]
  }
 ],
 "metadata": {
  "kernelspec": {
   "display_name": "Python 3 (ipykernel)",
   "language": "python",
   "name": "python3"
  },
  "language_info": {
   "codemirror_mode": {
    "name": "ipython",
    "version": 3
   },
   "file_extension": ".py",
   "mimetype": "text/x-python",
   "name": "python",
   "nbconvert_exporter": "python",
   "pygments_lexer": "ipython3",
   "version": "3.10.16"
  }
 },
 "nbformat": 4,
 "nbformat_minor": 5
}
